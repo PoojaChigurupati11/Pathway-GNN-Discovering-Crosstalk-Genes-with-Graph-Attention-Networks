{
 "cells": [
  {
   "metadata": {
    "ExecuteTime": {
     "end_time": "2025-07-27T22:51:48.646270Z",
     "start_time": "2025-07-27T22:51:47.646161Z"
    }
   },
   "cell_type": "code",
   "source": [
    "import pandas as pd\n",
    "import torch\n",
    "from torch_geometric.data import Data\n",
    "from sklearn.model_selection import train_test_split\n",
    "from sklearn.metrics import f1_score"
   ],
   "id": "3a6e7ca59891c795",
   "outputs": [],
   "execution_count": 5
  },
  {
   "metadata": {
    "ExecuteTime": {
     "end_time": "2025-07-27T22:51:48.753360Z",
     "start_time": "2025-07-27T22:51:48.734814Z"
    }
   },
   "cell_type": "code",
   "source": [
    "if torch.backends.mps.is_available():\n",
    "    device = torch.device(\"mps\")\n",
    "    print(\"Using M3 GPU (MPS)\")\n",
    "else:\n",
    "    device = torch.device(\"cpu\")\n",
    "    print(\"Falling back to CPU\")\n"
   ],
   "id": "bd40fc45fa48bf60",
   "outputs": [
    {
     "name": "stdout",
     "output_type": "stream",
     "text": [
      "Using M3 GPU (MPS)\n"
     ]
    }
   ],
   "execution_count": 6
  },
  {
   "metadata": {
    "ExecuteTime": {
     "end_time": "2025-07-27T22:51:50.516747Z",
     "start_time": "2025-07-27T22:51:49.337866Z"
    }
   },
   "cell_type": "code",
   "source": "prot_alis=  pd.read_csv('9606.protein.aliases.v12.0.txt',sep='\\t')",
   "id": "a640b06abc75ddc1",
   "outputs": [],
   "execution_count": 7
  },
  {
   "metadata": {
    "ExecuteTime": {
     "end_time": "2025-07-27T22:51:50.530109Z",
     "start_time": "2025-07-27T22:51:50.522700Z"
    }
   },
   "cell_type": "code",
   "source": "prot_alis",
   "id": "5912a9ddbf8ea21a",
   "outputs": [
    {
     "data": {
      "text/plain": [
       "           #string_protein_id                                    alias  \\\n",
       "0        9606.ENSP00000000233                                     2B6H   \n",
       "1        9606.ENSP00000000233                                     2B6H   \n",
       "2        9606.ENSP00000000233                                      381   \n",
       "3        9606.ENSP00000000233                                      381   \n",
       "4        9606.ENSP00000000233                                      381   \n",
       "...                       ...                                      ...   \n",
       "3889202  9606.ENSP00000501317  regulatory factor X domain containing 2   \n",
       "3889203  9606.ENSP00000501317                   regulatory factor X, 7   \n",
       "3889204  9606.ENSP00000501317                     regulatory factor X7   \n",
       "3889205  9606.ENSP00000501317                               uc059jng.1   \n",
       "3889206  9606.ENSP00000501317                               uc059jng.1   \n",
       "\n",
       "                         source  \n",
       "0                   Ensembl_PDB  \n",
       "1                UniProt_DR_PDB  \n",
       "2        Ensembl_HGNC_entrez_id  \n",
       "3                   KEGG_GENEID  \n",
       "4             KEGG_KEGGID_SHORT  \n",
       "...                         ...  \n",
       "3889202  Ensembl_HGNC_prev_name  \n",
       "3889203  Ensembl_HGNC_prev_name  \n",
       "3889204       Ensembl_HGNC_name  \n",
       "3889205    Ensembl_HGNC_ucsc_id  \n",
       "3889206         UniProt_DR_UCSC  \n",
       "\n",
       "[3889207 rows x 3 columns]"
      ],
      "text/html": [
       "<div>\n",
       "<style scoped>\n",
       "    .dataframe tbody tr th:only-of-type {\n",
       "        vertical-align: middle;\n",
       "    }\n",
       "\n",
       "    .dataframe tbody tr th {\n",
       "        vertical-align: top;\n",
       "    }\n",
       "\n",
       "    .dataframe thead th {\n",
       "        text-align: right;\n",
       "    }\n",
       "</style>\n",
       "<table border=\"1\" class=\"dataframe\">\n",
       "  <thead>\n",
       "    <tr style=\"text-align: right;\">\n",
       "      <th></th>\n",
       "      <th>#string_protein_id</th>\n",
       "      <th>alias</th>\n",
       "      <th>source</th>\n",
       "    </tr>\n",
       "  </thead>\n",
       "  <tbody>\n",
       "    <tr>\n",
       "      <th>0</th>\n",
       "      <td>9606.ENSP00000000233</td>\n",
       "      <td>2B6H</td>\n",
       "      <td>Ensembl_PDB</td>\n",
       "    </tr>\n",
       "    <tr>\n",
       "      <th>1</th>\n",
       "      <td>9606.ENSP00000000233</td>\n",
       "      <td>2B6H</td>\n",
       "      <td>UniProt_DR_PDB</td>\n",
       "    </tr>\n",
       "    <tr>\n",
       "      <th>2</th>\n",
       "      <td>9606.ENSP00000000233</td>\n",
       "      <td>381</td>\n",
       "      <td>Ensembl_HGNC_entrez_id</td>\n",
       "    </tr>\n",
       "    <tr>\n",
       "      <th>3</th>\n",
       "      <td>9606.ENSP00000000233</td>\n",
       "      <td>381</td>\n",
       "      <td>KEGG_GENEID</td>\n",
       "    </tr>\n",
       "    <tr>\n",
       "      <th>4</th>\n",
       "      <td>9606.ENSP00000000233</td>\n",
       "      <td>381</td>\n",
       "      <td>KEGG_KEGGID_SHORT</td>\n",
       "    </tr>\n",
       "    <tr>\n",
       "      <th>...</th>\n",
       "      <td>...</td>\n",
       "      <td>...</td>\n",
       "      <td>...</td>\n",
       "    </tr>\n",
       "    <tr>\n",
       "      <th>3889202</th>\n",
       "      <td>9606.ENSP00000501317</td>\n",
       "      <td>regulatory factor X domain containing 2</td>\n",
       "      <td>Ensembl_HGNC_prev_name</td>\n",
       "    </tr>\n",
       "    <tr>\n",
       "      <th>3889203</th>\n",
       "      <td>9606.ENSP00000501317</td>\n",
       "      <td>regulatory factor X, 7</td>\n",
       "      <td>Ensembl_HGNC_prev_name</td>\n",
       "    </tr>\n",
       "    <tr>\n",
       "      <th>3889204</th>\n",
       "      <td>9606.ENSP00000501317</td>\n",
       "      <td>regulatory factor X7</td>\n",
       "      <td>Ensembl_HGNC_name</td>\n",
       "    </tr>\n",
       "    <tr>\n",
       "      <th>3889205</th>\n",
       "      <td>9606.ENSP00000501317</td>\n",
       "      <td>uc059jng.1</td>\n",
       "      <td>Ensembl_HGNC_ucsc_id</td>\n",
       "    </tr>\n",
       "    <tr>\n",
       "      <th>3889206</th>\n",
       "      <td>9606.ENSP00000501317</td>\n",
       "      <td>uc059jng.1</td>\n",
       "      <td>UniProt_DR_UCSC</td>\n",
       "    </tr>\n",
       "  </tbody>\n",
       "</table>\n",
       "<p>3889207 rows × 3 columns</p>\n",
       "</div>"
      ]
     },
     "execution_count": 8,
     "metadata": {},
     "output_type": "execute_result"
    }
   ],
   "execution_count": 8
  },
  {
   "metadata": {
    "ExecuteTime": {
     "end_time": "2025-07-27T22:51:53.754612Z",
     "start_time": "2025-07-27T22:51:50.538187Z"
    }
   },
   "cell_type": "code",
   "source": "prot= pd.read_csv('9606.protein.links.v12.0.txt',sep=' ')",
   "id": "88abf285181ca4c0",
   "outputs": [],
   "execution_count": 9
  },
  {
   "metadata": {
    "ExecuteTime": {
     "end_time": "2025-07-27T22:51:53.767591Z",
     "start_time": "2025-07-27T22:51:53.761968Z"
    }
   },
   "cell_type": "code",
   "source": "prot",
   "id": "fe74af27f91ca196",
   "outputs": [
    {
     "data": {
      "text/plain": [
       "                      protein1              protein2  combined_score\n",
       "0         9606.ENSP00000000233  9606.ENSP00000356607             173\n",
       "1         9606.ENSP00000000233  9606.ENSP00000427567             154\n",
       "2         9606.ENSP00000000233  9606.ENSP00000253413             151\n",
       "3         9606.ENSP00000000233  9606.ENSP00000493357             471\n",
       "4         9606.ENSP00000000233  9606.ENSP00000324127             201\n",
       "...                        ...                   ...             ...\n",
       "13715399  9606.ENSP00000501317  9606.ENSP00000475489             195\n",
       "13715400  9606.ENSP00000501317  9606.ENSP00000370447             158\n",
       "13715401  9606.ENSP00000501317  9606.ENSP00000312272             226\n",
       "13715402  9606.ENSP00000501317  9606.ENSP00000402092             169\n",
       "13715403  9606.ENSP00000501317  9606.ENSP00000404074             251\n",
       "\n",
       "[13715404 rows x 3 columns]"
      ],
      "text/html": [
       "<div>\n",
       "<style scoped>\n",
       "    .dataframe tbody tr th:only-of-type {\n",
       "        vertical-align: middle;\n",
       "    }\n",
       "\n",
       "    .dataframe tbody tr th {\n",
       "        vertical-align: top;\n",
       "    }\n",
       "\n",
       "    .dataframe thead th {\n",
       "        text-align: right;\n",
       "    }\n",
       "</style>\n",
       "<table border=\"1\" class=\"dataframe\">\n",
       "  <thead>\n",
       "    <tr style=\"text-align: right;\">\n",
       "      <th></th>\n",
       "      <th>protein1</th>\n",
       "      <th>protein2</th>\n",
       "      <th>combined_score</th>\n",
       "    </tr>\n",
       "  </thead>\n",
       "  <tbody>\n",
       "    <tr>\n",
       "      <th>0</th>\n",
       "      <td>9606.ENSP00000000233</td>\n",
       "      <td>9606.ENSP00000356607</td>\n",
       "      <td>173</td>\n",
       "    </tr>\n",
       "    <tr>\n",
       "      <th>1</th>\n",
       "      <td>9606.ENSP00000000233</td>\n",
       "      <td>9606.ENSP00000427567</td>\n",
       "      <td>154</td>\n",
       "    </tr>\n",
       "    <tr>\n",
       "      <th>2</th>\n",
       "      <td>9606.ENSP00000000233</td>\n",
       "      <td>9606.ENSP00000253413</td>\n",
       "      <td>151</td>\n",
       "    </tr>\n",
       "    <tr>\n",
       "      <th>3</th>\n",
       "      <td>9606.ENSP00000000233</td>\n",
       "      <td>9606.ENSP00000493357</td>\n",
       "      <td>471</td>\n",
       "    </tr>\n",
       "    <tr>\n",
       "      <th>4</th>\n",
       "      <td>9606.ENSP00000000233</td>\n",
       "      <td>9606.ENSP00000324127</td>\n",
       "      <td>201</td>\n",
       "    </tr>\n",
       "    <tr>\n",
       "      <th>...</th>\n",
       "      <td>...</td>\n",
       "      <td>...</td>\n",
       "      <td>...</td>\n",
       "    </tr>\n",
       "    <tr>\n",
       "      <th>13715399</th>\n",
       "      <td>9606.ENSP00000501317</td>\n",
       "      <td>9606.ENSP00000475489</td>\n",
       "      <td>195</td>\n",
       "    </tr>\n",
       "    <tr>\n",
       "      <th>13715400</th>\n",
       "      <td>9606.ENSP00000501317</td>\n",
       "      <td>9606.ENSP00000370447</td>\n",
       "      <td>158</td>\n",
       "    </tr>\n",
       "    <tr>\n",
       "      <th>13715401</th>\n",
       "      <td>9606.ENSP00000501317</td>\n",
       "      <td>9606.ENSP00000312272</td>\n",
       "      <td>226</td>\n",
       "    </tr>\n",
       "    <tr>\n",
       "      <th>13715402</th>\n",
       "      <td>9606.ENSP00000501317</td>\n",
       "      <td>9606.ENSP00000402092</td>\n",
       "      <td>169</td>\n",
       "    </tr>\n",
       "    <tr>\n",
       "      <th>13715403</th>\n",
       "      <td>9606.ENSP00000501317</td>\n",
       "      <td>9606.ENSP00000404074</td>\n",
       "      <td>251</td>\n",
       "    </tr>\n",
       "  </tbody>\n",
       "</table>\n",
       "<p>13715404 rows × 3 columns</p>\n",
       "</div>"
      ]
     },
     "execution_count": 10,
     "metadata": {},
     "output_type": "execute_result"
    }
   ],
   "execution_count": 10
  },
  {
   "metadata": {
    "ExecuteTime": {
     "end_time": "2025-07-27T22:51:53.823873Z",
     "start_time": "2025-07-27T22:51:53.781252Z"
    }
   },
   "cell_type": "code",
   "source": [
    "prot =prot[prot['combined_score'] >= 700]\n",
    "prot_alis = prot_alis[prot_alis['source'] == 'Ensembl_HGNC']"
   ],
   "id": "cb9705b2816cfbc1",
   "outputs": [],
   "execution_count": 11
  },
  {
   "metadata": {
    "ExecuteTime": {
     "end_time": "2025-07-27T22:52:31.264284Z",
     "start_time": "2025-07-27T22:52:31.256995Z"
    }
   },
   "cell_type": "code",
   "source": "prot_alis.head()",
   "id": "5c905e6c07df9af4",
   "outputs": [
    {
     "data": {
      "text/plain": [
       "       #string_protein_id    alias        source\n",
       "23   9606.ENSP00000000233     ARF5  Ensembl_HGNC\n",
       "219  9606.ENSP00000000412     M6PR  Ensembl_HGNC\n",
       "397  9606.ENSP00000001008    FKBP4  Ensembl_HGNC\n",
       "527  9606.ENSP00000001146  CYP26B1  Ensembl_HGNC\n",
       "759  9606.ENSP00000002125  NDUFAF7  Ensembl_HGNC"
      ],
      "text/html": [
       "<div>\n",
       "<style scoped>\n",
       "    .dataframe tbody tr th:only-of-type {\n",
       "        vertical-align: middle;\n",
       "    }\n",
       "\n",
       "    .dataframe tbody tr th {\n",
       "        vertical-align: top;\n",
       "    }\n",
       "\n",
       "    .dataframe thead th {\n",
       "        text-align: right;\n",
       "    }\n",
       "</style>\n",
       "<table border=\"1\" class=\"dataframe\">\n",
       "  <thead>\n",
       "    <tr style=\"text-align: right;\">\n",
       "      <th></th>\n",
       "      <th>#string_protein_id</th>\n",
       "      <th>alias</th>\n",
       "      <th>source</th>\n",
       "    </tr>\n",
       "  </thead>\n",
       "  <tbody>\n",
       "    <tr>\n",
       "      <th>23</th>\n",
       "      <td>9606.ENSP00000000233</td>\n",
       "      <td>ARF5</td>\n",
       "      <td>Ensembl_HGNC</td>\n",
       "    </tr>\n",
       "    <tr>\n",
       "      <th>219</th>\n",
       "      <td>9606.ENSP00000000412</td>\n",
       "      <td>M6PR</td>\n",
       "      <td>Ensembl_HGNC</td>\n",
       "    </tr>\n",
       "    <tr>\n",
       "      <th>397</th>\n",
       "      <td>9606.ENSP00000001008</td>\n",
       "      <td>FKBP4</td>\n",
       "      <td>Ensembl_HGNC</td>\n",
       "    </tr>\n",
       "    <tr>\n",
       "      <th>527</th>\n",
       "      <td>9606.ENSP00000001146</td>\n",
       "      <td>CYP26B1</td>\n",
       "      <td>Ensembl_HGNC</td>\n",
       "    </tr>\n",
       "    <tr>\n",
       "      <th>759</th>\n",
       "      <td>9606.ENSP00000002125</td>\n",
       "      <td>NDUFAF7</td>\n",
       "      <td>Ensembl_HGNC</td>\n",
       "    </tr>\n",
       "  </tbody>\n",
       "</table>\n",
       "</div>"
      ]
     },
     "execution_count": 16,
     "metadata": {},
     "output_type": "execute_result"
    }
   ],
   "execution_count": 16
  },
  {
   "metadata": {
    "ExecuteTime": {
     "end_time": "2025-07-27T22:52:32.717362Z",
     "start_time": "2025-07-27T22:52:32.567251Z"
    }
   },
   "cell_type": "code",
   "source": [
    "gene_map = prot_alis.set_index('#string_protein_id')['alias'].to_dict()\n",
    "\n",
    "prot = prot[\n",
    "    prot['protein1'].isin(gene_map) &\n",
    "    prot['protein2'].isin(gene_map)\n",
    "].copy()\n",
    "\n",
    "prot['p1gene'] = prot['protein1'].map(gene_map)\n",
    "prot['p2gene'] = prot['protein2'].map(gene_map)\n",
    "\n",
    "prot = prot[['protein1', 'p1gene', 'protein2', 'p2gene', 'combined_score']]"
   ],
   "id": "b91f7a659081a77d",
   "outputs": [],
   "execution_count": 18
  },
  {
   "metadata": {
    "ExecuteTime": {
     "end_time": "2025-07-27T23:11:25.594754Z",
     "start_time": "2025-07-27T23:11:25.530717Z"
    }
   },
   "cell_type": "code",
   "source": "prot = prot.drop(columns=['protein1','protein2'])",
   "id": "ff456284e3dc8ea9",
   "outputs": [],
   "execution_count": 35
  },
  {
   "metadata": {
    "ExecuteTime": {
     "end_time": "2025-07-27T23:11:34.403705Z",
     "start_time": "2025-07-27T23:11:34.395164Z"
    }
   },
   "cell_type": "code",
   "source": "prot",
   "id": "20ba70eeb2dabf9d",
   "outputs": [
    {
     "data": {
      "text/plain": [
       "         p1gene     p2gene  combined_score\n",
       "85         ARF5      ACAP1             825\n",
       "130        ARF5       COPA             718\n",
       "160        ARF5  RAB11FIP3             952\n",
       "197        ARF5      COPB2             752\n",
       "268        ARF5       COPE             795\n",
       "...         ...        ...             ...\n",
       "13715019   LDB1      ZFPM1             942\n",
       "13715034   LDB1       LHX4             944\n",
       "13715072   RFX7       RFX5             780\n",
       "13715299   RFX7     RFXANK             978\n",
       "13715301   RFX7     ANKRA2             973\n",
       "\n",
       "[467610 rows x 3 columns]"
      ],
      "text/html": [
       "<div>\n",
       "<style scoped>\n",
       "    .dataframe tbody tr th:only-of-type {\n",
       "        vertical-align: middle;\n",
       "    }\n",
       "\n",
       "    .dataframe tbody tr th {\n",
       "        vertical-align: top;\n",
       "    }\n",
       "\n",
       "    .dataframe thead th {\n",
       "        text-align: right;\n",
       "    }\n",
       "</style>\n",
       "<table border=\"1\" class=\"dataframe\">\n",
       "  <thead>\n",
       "    <tr style=\"text-align: right;\">\n",
       "      <th></th>\n",
       "      <th>p1gene</th>\n",
       "      <th>p2gene</th>\n",
       "      <th>combined_score</th>\n",
       "    </tr>\n",
       "  </thead>\n",
       "  <tbody>\n",
       "    <tr>\n",
       "      <th>85</th>\n",
       "      <td>ARF5</td>\n",
       "      <td>ACAP1</td>\n",
       "      <td>825</td>\n",
       "    </tr>\n",
       "    <tr>\n",
       "      <th>130</th>\n",
       "      <td>ARF5</td>\n",
       "      <td>COPA</td>\n",
       "      <td>718</td>\n",
       "    </tr>\n",
       "    <tr>\n",
       "      <th>160</th>\n",
       "      <td>ARF5</td>\n",
       "      <td>RAB11FIP3</td>\n",
       "      <td>952</td>\n",
       "    </tr>\n",
       "    <tr>\n",
       "      <th>197</th>\n",
       "      <td>ARF5</td>\n",
       "      <td>COPB2</td>\n",
       "      <td>752</td>\n",
       "    </tr>\n",
       "    <tr>\n",
       "      <th>268</th>\n",
       "      <td>ARF5</td>\n",
       "      <td>COPE</td>\n",
       "      <td>795</td>\n",
       "    </tr>\n",
       "    <tr>\n",
       "      <th>...</th>\n",
       "      <td>...</td>\n",
       "      <td>...</td>\n",
       "      <td>...</td>\n",
       "    </tr>\n",
       "    <tr>\n",
       "      <th>13715019</th>\n",
       "      <td>LDB1</td>\n",
       "      <td>ZFPM1</td>\n",
       "      <td>942</td>\n",
       "    </tr>\n",
       "    <tr>\n",
       "      <th>13715034</th>\n",
       "      <td>LDB1</td>\n",
       "      <td>LHX4</td>\n",
       "      <td>944</td>\n",
       "    </tr>\n",
       "    <tr>\n",
       "      <th>13715072</th>\n",
       "      <td>RFX7</td>\n",
       "      <td>RFX5</td>\n",
       "      <td>780</td>\n",
       "    </tr>\n",
       "    <tr>\n",
       "      <th>13715299</th>\n",
       "      <td>RFX7</td>\n",
       "      <td>RFXANK</td>\n",
       "      <td>978</td>\n",
       "    </tr>\n",
       "    <tr>\n",
       "      <th>13715301</th>\n",
       "      <td>RFX7</td>\n",
       "      <td>ANKRA2</td>\n",
       "      <td>973</td>\n",
       "    </tr>\n",
       "  </tbody>\n",
       "</table>\n",
       "<p>467610 rows × 3 columns</p>\n",
       "</div>"
      ]
     },
     "execution_count": 37,
     "metadata": {},
     "output_type": "execute_result"
    }
   ],
   "execution_count": 37
  },
  {
   "metadata": {
    "ExecuteTime": {
     "end_time": "2025-07-27T22:52:34.173932Z",
     "start_time": "2025-07-27T22:52:33.654265Z"
    }
   },
   "cell_type": "code",
   "source": "reactome_df = pd.read_csv(\"UniProt2Reactome_All_Levels.txt\", sep=\"\\t\", names=[\"UniProt_ID\", \"Pathway_ID\", \"URL\",\"pathway_name\",\"Evidence_Code\",\"Species\"])",
   "id": "f863ebce3b42ca7e",
   "outputs": [],
   "execution_count": 20
  },
  {
   "metadata": {
    "ExecuteTime": {
     "end_time": "2025-07-27T23:21:15.642829Z",
     "start_time": "2025-07-27T23:21:15.585923Z"
    }
   },
   "cell_type": "code",
   "source": "react",
   "id": "16d9e95c3777fbc8",
   "outputs": [],
   "execution_count": 53
  },
  {
   "metadata": {
    "ExecuteTime": {
     "end_time": "2025-07-27T23:21:20.696893Z",
     "start_time": "2025-07-27T23:21:19.372626Z"
    }
   },
   "cell_type": "code",
   "source": "human_gene = pd.read_csv('HUMAN_9606_idmapping.dat',sep='\\t', header=None, names=[\"UniProt_ID\", \"DB_Name\", \"Gene_Symbol\"])",
   "id": "366a9f9d946abe3c",
   "outputs": [],
   "execution_count": 55
  },
  {
   "metadata": {
    "ExecuteTime": {
     "end_time": "2025-07-27T23:21:20.706095Z",
     "start_time": "2025-07-27T23:21:20.701025Z"
    }
   },
   "cell_type": "code",
   "source": "human_gene.head()",
   "id": "e8d351ec9db7f1aa",
   "outputs": [
    {
     "data": {
      "text/plain": [
       "  UniProt_ID       DB_Name  Gene_Symbol\n",
       "0     P31946  UniProtKB-ID  1433B_HUMAN\n",
       "1     P31946     Gene_Name        YWHAB\n",
       "2     P31946            GI      4507949\n",
       "3     P31946            GI    377656702\n",
       "4     P31946            GI     67464628"
      ],
      "text/html": [
       "<div>\n",
       "<style scoped>\n",
       "    .dataframe tbody tr th:only-of-type {\n",
       "        vertical-align: middle;\n",
       "    }\n",
       "\n",
       "    .dataframe tbody tr th {\n",
       "        vertical-align: top;\n",
       "    }\n",
       "\n",
       "    .dataframe thead th {\n",
       "        text-align: right;\n",
       "    }\n",
       "</style>\n",
       "<table border=\"1\" class=\"dataframe\">\n",
       "  <thead>\n",
       "    <tr style=\"text-align: right;\">\n",
       "      <th></th>\n",
       "      <th>UniProt_ID</th>\n",
       "      <th>DB_Name</th>\n",
       "      <th>Gene_Symbol</th>\n",
       "    </tr>\n",
       "  </thead>\n",
       "  <tbody>\n",
       "    <tr>\n",
       "      <th>0</th>\n",
       "      <td>P31946</td>\n",
       "      <td>UniProtKB-ID</td>\n",
       "      <td>1433B_HUMAN</td>\n",
       "    </tr>\n",
       "    <tr>\n",
       "      <th>1</th>\n",
       "      <td>P31946</td>\n",
       "      <td>Gene_Name</td>\n",
       "      <td>YWHAB</td>\n",
       "    </tr>\n",
       "    <tr>\n",
       "      <th>2</th>\n",
       "      <td>P31946</td>\n",
       "      <td>GI</td>\n",
       "      <td>4507949</td>\n",
       "    </tr>\n",
       "    <tr>\n",
       "      <th>3</th>\n",
       "      <td>P31946</td>\n",
       "      <td>GI</td>\n",
       "      <td>377656702</td>\n",
       "    </tr>\n",
       "    <tr>\n",
       "      <th>4</th>\n",
       "      <td>P31946</td>\n",
       "      <td>GI</td>\n",
       "      <td>67464628</td>\n",
       "    </tr>\n",
       "  </tbody>\n",
       "</table>\n",
       "</div>"
      ]
     },
     "execution_count": 56,
     "metadata": {},
     "output_type": "execute_result"
    }
   ],
   "execution_count": 56
  },
  {
   "metadata": {
    "ExecuteTime": {
     "end_time": "2025-07-27T23:21:20.864663Z",
     "start_time": "2025-07-27T23:21:20.720182Z"
    }
   },
   "cell_type": "code",
   "source": [
    "gene_map = human_gene[human_gene[\"DB_Name\"] == \"Gene_Name\"]\n",
    "gene_map = gene_map[[\"UniProt_ID\", \"Gene_Symbol\"]].rename(columns={\"Gene_Symbol\": \"Value\"})\n"
   ],
   "id": "c521ac44ccc32e1e",
   "outputs": [],
   "execution_count": 57
  },
  {
   "metadata": {
    "ExecuteTime": {
     "end_time": "2025-07-27T23:21:20.893788Z",
     "start_time": "2025-07-27T23:21:20.867825Z"
    }
   },
   "cell_type": "code",
   "source": "uni_gene = dict(zip(gene_map[\"UniProt_ID\"], gene_map[\"Value\"]))",
   "id": "74ab9bf23a8464de",
   "outputs": [],
   "execution_count": 58
  },
  {
   "metadata": {
    "ExecuteTime": {
     "end_time": "2025-07-27T23:24:09.372048Z",
     "start_time": "2025-07-27T23:24:09.295730Z"
    }
   },
   "cell_type": "code",
   "source": "reactome_df = reactome_df.dropna(subset=[\"Gene_Symbol\",\"Pathway_ID\"])",
   "id": "3e10ae4e50f373bb",
   "outputs": [],
   "execution_count": 78
  },
  {
   "metadata": {
    "ExecuteTime": {
     "end_time": "2025-07-27T23:24:09.893300Z",
     "start_time": "2025-07-27T23:24:09.792782Z"
    }
   },
   "cell_type": "code",
   "source": "reactome_df[\"Gene_Symbol\"] = reactome_df[\"UniProt_ID\"].map(uni_gene)",
   "id": "801183fd1564d153",
   "outputs": [],
   "execution_count": 79
  },
  {
   "metadata": {
    "ExecuteTime": {
     "end_time": "2025-07-27T23:24:11.528381Z",
     "start_time": "2025-07-27T23:24:11.514774Z"
    }
   },
   "cell_type": "code",
   "source": [
    "reactome=reactome_df.drop(columns=['URL','Evidence_Code','Species'])\n",
    "reactome = reactome.drop_duplicates()"
   ],
   "id": "8f739d6a1f0e5462",
   "outputs": [],
   "execution_count": 81
  },
  {
   "metadata": {
    "ExecuteTime": {
     "end_time": "2025-07-28T22:59:05.913505Z",
     "start_time": "2025-07-28T22:59:05.898492Z"
    }
   },
   "cell_type": "code",
   "source": "reactome",
   "id": "4cc3669fb9d237bf",
   "outputs": [
    {
     "data": {
      "text/plain": [
       "        UniProt_ID     Pathway_ID                             pathway_name  \\\n",
       "905     A0A075B6P5   R-HSA-109582                               Hemostasis   \n",
       "906     A0A075B6P5  R-HSA-1280218                   Adaptive Immune System   \n",
       "908     A0A075B6P5  R-HSA-1643685                                  Disease   \n",
       "910     A0A075B6P5   R-HSA-166658                       Complement cascade   \n",
       "911     A0A075B6P5   R-HSA-166663         Initial triggering of complement   \n",
       "...            ...            ...                                      ...   \n",
       "881989      Q9Y6Z7   R-HSA-166662  Lectin pathway of complement activation   \n",
       "881990      Q9Y6Z7   R-HSA-166663         Initial triggering of complement   \n",
       "881991      Q9Y6Z7   R-HSA-166786         Creation of C4 and C2 activators   \n",
       "881992      Q9Y6Z7   R-HSA-168249                     Innate Immune System   \n",
       "881993      Q9Y6Z7   R-HSA-168256                            Immune System   \n",
       "\n",
       "       Gene_Symbol  \n",
       "905       IGKV2-28  \n",
       "906       IGKV2-28  \n",
       "908       IGKV2-28  \n",
       "910       IGKV2-28  \n",
       "911       IGKV2-28  \n",
       "...            ...  \n",
       "881989     COLEC10  \n",
       "881990     COLEC10  \n",
       "881991     COLEC10  \n",
       "881992     COLEC10  \n",
       "881993     COLEC10  \n",
       "\n",
       "[129657 rows x 4 columns]"
      ],
      "text/html": [
       "<div>\n",
       "<style scoped>\n",
       "    .dataframe tbody tr th:only-of-type {\n",
       "        vertical-align: middle;\n",
       "    }\n",
       "\n",
       "    .dataframe tbody tr th {\n",
       "        vertical-align: top;\n",
       "    }\n",
       "\n",
       "    .dataframe thead th {\n",
       "        text-align: right;\n",
       "    }\n",
       "</style>\n",
       "<table border=\"1\" class=\"dataframe\">\n",
       "  <thead>\n",
       "    <tr style=\"text-align: right;\">\n",
       "      <th></th>\n",
       "      <th>UniProt_ID</th>\n",
       "      <th>Pathway_ID</th>\n",
       "      <th>pathway_name</th>\n",
       "      <th>Gene_Symbol</th>\n",
       "    </tr>\n",
       "  </thead>\n",
       "  <tbody>\n",
       "    <tr>\n",
       "      <th>905</th>\n",
       "      <td>A0A075B6P5</td>\n",
       "      <td>R-HSA-109582</td>\n",
       "      <td>Hemostasis</td>\n",
       "      <td>IGKV2-28</td>\n",
       "    </tr>\n",
       "    <tr>\n",
       "      <th>906</th>\n",
       "      <td>A0A075B6P5</td>\n",
       "      <td>R-HSA-1280218</td>\n",
       "      <td>Adaptive Immune System</td>\n",
       "      <td>IGKV2-28</td>\n",
       "    </tr>\n",
       "    <tr>\n",
       "      <th>908</th>\n",
       "      <td>A0A075B6P5</td>\n",
       "      <td>R-HSA-1643685</td>\n",
       "      <td>Disease</td>\n",
       "      <td>IGKV2-28</td>\n",
       "    </tr>\n",
       "    <tr>\n",
       "      <th>910</th>\n",
       "      <td>A0A075B6P5</td>\n",
       "      <td>R-HSA-166658</td>\n",
       "      <td>Complement cascade</td>\n",
       "      <td>IGKV2-28</td>\n",
       "    </tr>\n",
       "    <tr>\n",
       "      <th>911</th>\n",
       "      <td>A0A075B6P5</td>\n",
       "      <td>R-HSA-166663</td>\n",
       "      <td>Initial triggering of complement</td>\n",
       "      <td>IGKV2-28</td>\n",
       "    </tr>\n",
       "    <tr>\n",
       "      <th>...</th>\n",
       "      <td>...</td>\n",
       "      <td>...</td>\n",
       "      <td>...</td>\n",
       "      <td>...</td>\n",
       "    </tr>\n",
       "    <tr>\n",
       "      <th>881989</th>\n",
       "      <td>Q9Y6Z7</td>\n",
       "      <td>R-HSA-166662</td>\n",
       "      <td>Lectin pathway of complement activation</td>\n",
       "      <td>COLEC10</td>\n",
       "    </tr>\n",
       "    <tr>\n",
       "      <th>881990</th>\n",
       "      <td>Q9Y6Z7</td>\n",
       "      <td>R-HSA-166663</td>\n",
       "      <td>Initial triggering of complement</td>\n",
       "      <td>COLEC10</td>\n",
       "    </tr>\n",
       "    <tr>\n",
       "      <th>881991</th>\n",
       "      <td>Q9Y6Z7</td>\n",
       "      <td>R-HSA-166786</td>\n",
       "      <td>Creation of C4 and C2 activators</td>\n",
       "      <td>COLEC10</td>\n",
       "    </tr>\n",
       "    <tr>\n",
       "      <th>881992</th>\n",
       "      <td>Q9Y6Z7</td>\n",
       "      <td>R-HSA-168249</td>\n",
       "      <td>Innate Immune System</td>\n",
       "      <td>COLEC10</td>\n",
       "    </tr>\n",
       "    <tr>\n",
       "      <th>881993</th>\n",
       "      <td>Q9Y6Z7</td>\n",
       "      <td>R-HSA-168256</td>\n",
       "      <td>Immune System</td>\n",
       "      <td>COLEC10</td>\n",
       "    </tr>\n",
       "  </tbody>\n",
       "</table>\n",
       "<p>129657 rows × 4 columns</p>\n",
       "</div>"
      ]
     },
     "execution_count": 90,
     "metadata": {},
     "output_type": "execute_result"
    }
   ],
   "execution_count": 90
  },
  {
   "metadata": {
    "ExecuteTime": {
     "end_time": "2025-07-27T23:24:12.760871Z",
     "start_time": "2025-07-27T23:24:12.731578Z"
    }
   },
   "cell_type": "code",
   "source": "path_count =reactome.groupby(\"Gene_Symbol\")[\"Pathway_ID\"].nunique()\n",
   "id": "31cb71aff4495d59",
   "outputs": [],
   "execution_count": 82
  },
  {
   "metadata": {
    "ExecuteTime": {
     "end_time": "2025-07-27T23:27:58.157312Z",
     "start_time": "2025-07-27T23:27:58.124515Z"
    }
   },
   "cell_type": "code",
   "source": [
    "label_df = path_count.apply(lambda x : 1 if x>=3 else 0).reset_index()\n",
    "label_df.columns = [\"gene\", \"label\"]"
   ],
   "id": "279957d1ed08e2cc",
   "outputs": [],
   "execution_count": 85
  },
  {
   "metadata": {
    "ExecuteTime": {
     "end_time": "2025-07-27T23:27:58.482177Z",
     "start_time": "2025-07-27T23:27:58.476919Z"
    }
   },
   "cell_type": "code",
   "source": "label_df['label'].value_counts()",
   "id": "a8697fd9047d51ec",
   "outputs": [
    {
     "data": {
      "text/plain": [
       "label\n",
       "1    10847\n",
       "0      446\n",
       "Name: count, dtype: int64"
      ]
     },
     "execution_count": 86,
     "metadata": {},
     "output_type": "execute_result"
    }
   ],
   "execution_count": 86
  },
  {
   "metadata": {
    "ExecuteTime": {
     "end_time": "2025-07-28T23:00:09.641497Z",
     "start_time": "2025-07-28T23:00:09.608322Z"
    }
   },
   "cell_type": "code",
   "source": [
    "label = dict(zip(label_df[\"gene\"], label_df[\"label\"]))\n",
    "list_node_gene = list(set(prot['p1gene']).union(prot['p2gene']).union(reactome['Gene_Symbol']))\n",
    "list_node_path = list(set(reactome['Pathway_ID']))\n",
    "nodes = list_node_path + list_node_gene"
   ],
   "id": "a3b13ccfc7e8ec57",
   "outputs": [],
   "execution_count": 91
  },
  {
   "metadata": {
    "ExecuteTime": {
     "end_time": "2025-07-29T01:09:50.590181Z",
     "start_time": "2025-07-29T01:09:50.544714Z"
    }
   },
   "cell_type": "code",
   "source": "node_id = {node_name : idx for idx, node_name in enumerate(nodes)}",
   "id": "7b0ed0b09a8138f1",
   "outputs": [],
   "execution_count": 109
  },
  {
   "metadata": {
    "ExecuteTime": {
     "end_time": "2025-07-29T01:52:44.250011Z",
     "start_time": "2025-07-29T01:52:42.283304Z"
    }
   },
   "cell_type": "code",
   "source": [
    "gene_pathway = []\n",
    "\n",
    "for _, row in reactome.iterrows():\n",
    "    gene = row['Gene_Symbol']\n",
    "    pathway = row['Pathway_ID']\n",
    "\n",
    "    src = node_id[gene]\n",
    "    dst = node_id[pathway]\n",
    "\n",
    "    gene_pathway.append((src, dst))\n"
   ],
   "id": "a8a7396327eebaa",
   "outputs": [],
   "execution_count": 111
  },
  {
   "metadata": {
    "ExecuteTime": {
     "end_time": "2025-07-29T01:53:23.256870Z",
     "start_time": "2025-07-29T01:53:23.236069Z"
    }
   },
   "cell_type": "code",
   "source": [
    "rev_edges = [(dst, src) for (src, dst) in gene_pathway]\n",
    "all_edges = gene_pathway + rev_edges\n"
   ],
   "id": "bf9844719d021041",
   "outputs": [],
   "execution_count": 112
  },
  {
   "metadata": {
    "ExecuteTime": {
     "end_time": "2025-07-29T01:55:16.913508Z",
     "start_time": "2025-07-29T01:55:09.741977Z"
    }
   },
   "cell_type": "code",
   "source": [
    "gene_gene = []\n",
    "\n",
    "for _, row in prot.iterrows():\n",
    "    gene = row['p1gene']\n",
    "    gene1 = row['p2gene']\n",
    "\n",
    "    src = node_id[gene]\n",
    "    dst = node_id[gene1]\n",
    "\n",
    "    gene_gene.append((src, dst))\n"
   ],
   "id": "64879c1278bd472",
   "outputs": [],
   "execution_count": 115
  },
  {
   "metadata": {
    "ExecuteTime": {
     "end_time": "2025-07-29T01:55:47.775902Z",
     "start_time": "2025-07-29T01:55:47.710260Z"
    }
   },
   "cell_type": "code",
   "source": [
    "rev_edges_gene = [(dst, src) for (src, dst) in gene_gene]\n",
    "all_edges_gene = gene_gene + rev_edges_gene\n"
   ],
   "id": "d18b8cb66f454782",
   "outputs": [],
   "execution_count": 116
  },
  {
   "metadata": {
    "ExecuteTime": {
     "end_time": "2025-07-29T01:56:33.097228Z",
     "start_time": "2025-07-29T01:56:33.069944Z"
    }
   },
   "cell_type": "code",
   "source": "alledges = all_edges_gene+ all_edges",
   "id": "60a5a486d52815ac",
   "outputs": [],
   "execution_count": 117
  },
  {
   "metadata": {
    "ExecuteTime": {
     "end_time": "2025-07-29T01:56:43.231643Z",
     "start_time": "2025-07-29T01:56:43.084874Z"
    }
   },
   "cell_type": "code",
   "source": "edge_index = torch.tensor(alledges, dtype=torch.long).t()  # shape [2, num_edges]",
   "id": "e1f828b3fa32329c",
   "outputs": [],
   "execution_count": 118
  },
  {
   "metadata": {
    "ExecuteTime": {
     "end_time": "2025-07-30T00:06:37.181671Z",
     "start_time": "2025-07-30T00:05:47.681053Z"
    }
   },
   "cell_type": "code",
   "source": [
    "num_nodes = len(node_id)\n",
    "x = torch.zeros((num_nodes, 2))\n",
    "for idx in range(num_nodes):\n",
    "    x[idx, 0] = sum(1 for (gene, path) in gene_pathway if gene == idx)\n",
    "for src, dst in alledges:\n",
    "    x[src, 1] += 1\n",
    "    x[dst, 1] += 1\n",
    "\n",
    "x = (x - x.mean(dim=0)) / x.std(dim=0)"
   ],
   "id": "7451691160f614db",
   "outputs": [],
   "execution_count": 131
  },
  {
   "metadata": {
    "ExecuteTime": {
     "end_time": "2025-07-30T00:06:37.427435Z",
     "start_time": "2025-07-30T00:06:37.185793Z"
    }
   },
   "cell_type": "code",
   "source": [
    "labels = torch.full((num_nodes,), -1)  # default is -1 (unlabeled)\n",
    "for _, row in label_df.iterrows():\n",
    "    gene = row['gene']\n",
    "    if gene in node_id:\n",
    "        labels[node_id[gene]] = row['label']\n"
   ],
   "id": "a3e6cf9a544cf234",
   "outputs": [],
   "execution_count": 132
  },
  {
   "metadata": {
    "ExecuteTime": {
     "end_time": "2025-07-30T00:06:37.434373Z",
     "start_time": "2025-07-30T00:06:37.432158Z"
    }
   },
   "cell_type": "code",
   "source": [
    "data = Data(\n",
    "    x=x,\n",
    "    edge_index=edge_index,\n",
    "    y=labels,\n",
    ")\n"
   ],
   "id": "9e0fc625927c8801",
   "outputs": [],
   "execution_count": 133
  },
  {
   "metadata": {
    "ExecuteTime": {
     "end_time": "2025-07-30T00:13:35.695513Z",
     "start_time": "2025-07-30T00:13:35.410168Z"
    }
   },
   "cell_type": "code",
   "source": [
    "\n",
    "# Get indices of gene nodes only\n",
    "gene_nodes = [i for i, name in enumerate(nodes) if not name.startswith(\"R-HSA\")]\n",
    "train_idx, test_idx = train_test_split(gene_nodes, test_size=0.2, random_state=42)\n",
    "train_idx, val_idx  = train_test_split(train_idx, test_size=0.25, random_state=42)\n",
    "\n",
    "train_mask = torch.zeros(data.num_nodes, dtype=torch.bool)\n",
    "val_mask   = torch.zeros(data.num_nodes, dtype=torch.bool)\n",
    "test_mask  = torch.zeros(data.num_nodes, dtype=torch.bool)\n",
    "\n",
    "train_mask[train_idx] = True\n",
    "val_mask[val_idx]     = True\n",
    "test_mask[test_idx]   = True\n",
    "\n",
    "data.train_mask = train_mask\n",
    "data.val_mask   = val_mask\n",
    "data.test_mask  = test_mask\n",
    "data = data.to(device)\n",
    "valid_labels = data.y[data.y != -1]\n",
    "\n",
    "num_pos = (valid_labels == 1).sum().item()\n",
    "num_neg = (valid_labels == 0).sum().item()\n",
    "class_weights = torch.tensor(\n",
    "    [num_pos / num_neg, 1.0],  # weight class 0 more\n",
    "    dtype=torch.float\n",
    ").to(device)"
   ],
   "id": "15c89ef57e3453ba",
   "outputs": [],
   "execution_count": 142
  },
  {
   "metadata": {
    "ExecuteTime": {
     "end_time": "2025-07-30T00:13:36.441397Z",
     "start_time": "2025-07-30T00:13:36.436210Z"
    }
   },
   "cell_type": "code",
   "source": [
    "import torch\n",
    "import torch.nn.functional as F\n",
    "from torch_geometric.nn import GATConv\n",
    "\n",
    "class GAT(torch.nn.Module):\n",
    "    def __init__(self, dim_in, dim_h, dim_out, heads=4):\n",
    "        super().__init__()\n",
    "        self.gat1 = GATConv(dim_in, dim_h, heads=heads, concat=True, dropout=0.5)\n",
    "        self.gat2 = GATConv(dim_h * heads, dim_out, heads=1, concat=False, dropout=0.5)\n",
    "\n",
    "    def forward(self, x, edge_index):\n",
    "        h = self.gat1(x, edge_index)\n",
    "        h = F.elu(h)\n",
    "        h = self.gat2(h, edge_index)\n",
    "        return F.log_softmax(h, dim=1)\n"
   ],
   "id": "66210f38e2eccefe",
   "outputs": [],
   "execution_count": 143
  },
  {
   "metadata": {
    "ExecuteTime": {
     "end_time": "2025-07-30T00:42:55.499688Z",
     "start_time": "2025-07-30T00:19:51.810207Z"
    }
   },
   "cell_type": "code",
   "source": [
    "model = GAT(dim_in=data.x.shape[1], dim_h=128, dim_out=2, heads=4).to(device)\n",
    "optimizer = torch.optim.Adam(model.parameters(), lr=0.005, weight_decay=5e-4)\n",
    "criterion = torch.nn.CrossEntropyLoss(weight=class_weights)  # weighted loss if class imbalance\n",
    "\n",
    "for epoch in range(1, 201):\n",
    "    model.train()\n",
    "    optimizer.zero_grad()\n",
    "\n",
    "    out = model(data.x, data.edge_index)\n",
    "\n",
    "    mask = data.train_mask & (data.y != -1)\n",
    "    loss = criterion(out[mask], data.y[mask])\n",
    "    loss.backward()\n",
    "    optimizer.step()\n",
    "\n",
    "    # Validation accuracy\n",
    "    model.eval()\n",
    "    with torch.no_grad():\n",
    "        val_mask = data.val_mask & (data.y != -1)\n",
    "        pred = out[val_mask].argmax(dim=1)\n",
    "        val_acc = (pred == data.y[val_mask]).sum() / val_mask.sum()\n",
    "\n",
    "    if epoch % 10 == 0:\n",
    "        print(f\"Epoch {epoch:03d} | Loss: {loss:.3f} | Val Acc: {val_acc:.3f}\")\n"
   ],
   "id": "efd7e63c7109061c",
   "outputs": [
    {
     "name": "stdout",
     "output_type": "stream",
     "text": [
      "Epoch 010 | Loss: 0.618 | Val Acc: 0.694\n",
      "Epoch 020 | Loss: 0.589 | Val Acc: 0.580\n",
      "Epoch 030 | Loss: 0.572 | Val Acc: 0.631\n",
      "Epoch 040 | Loss: 0.548 | Val Acc: 0.682\n",
      "Epoch 050 | Loss: 0.510 | Val Acc: 0.675\n",
      "Epoch 060 | Loss: 0.491 | Val Acc: 0.695\n",
      "Epoch 070 | Loss: 0.479 | Val Acc: 0.648\n",
      "Epoch 080 | Loss: 0.450 | Val Acc: 0.766\n",
      "Epoch 090 | Loss: 0.415 | Val Acc: 0.687\n",
      "Epoch 100 | Loss: 0.392 | Val Acc: 0.779\n",
      "Epoch 110 | Loss: 0.368 | Val Acc: 0.759\n",
      "Epoch 120 | Loss: 0.383 | Val Acc: 0.765\n",
      "Epoch 130 | Loss: 0.345 | Val Acc: 0.789\n",
      "Epoch 140 | Loss: 0.374 | Val Acc: 0.778\n",
      "Epoch 150 | Loss: 0.343 | Val Acc: 0.767\n",
      "Epoch 160 | Loss: 0.384 | Val Acc: 0.811\n",
      "Epoch 170 | Loss: 0.345 | Val Acc: 0.765\n",
      "Epoch 180 | Loss: 0.360 | Val Acc: 0.820\n",
      "Epoch 190 | Loss: 0.348 | Val Acc: 0.792\n",
      "Epoch 200 | Loss: 0.321 | Val Acc: 0.833\n"
     ]
    }
   ],
   "execution_count": 146
  },
  {
   "metadata": {
    "ExecuteTime": {
     "end_time": "2025-07-30T00:43:25.791590Z",
     "start_time": "2025-07-30T00:43:25.737843Z"
    }
   },
   "cell_type": "code",
   "source": [
    "val_f1 = f1_score(\n",
    "    data.y[val_mask].cpu(),\n",
    "    pred.cpu(),\n",
    "    average=\"binary\"\n",
    ")\n",
    "print(f\"Val Acc: {val_acc:.3f} | Val F1: {val_f1:.3f}\")\n"
   ],
   "id": "26c0435e787cf6a7",
   "outputs": [
    {
     "name": "stdout",
     "output_type": "stream",
     "text": [
      "Val Acc: 0.833 | Val F1: 0.905\n"
     ]
    }
   ],
   "execution_count": 147
  },
  {
   "metadata": {
    "ExecuteTime": {
     "end_time": "2025-07-30T00:44:01.612568Z",
     "start_time": "2025-07-30T00:44:01.253420Z"
    }
   },
   "cell_type": "code",
   "source": [
    "test_mask = data.test_mask & (data.y != -1)\n",
    "pred = out[test_mask].argmax(dim=1)\n",
    "\n",
    "from sklearn.metrics import f1_score, precision_score, recall_score\n",
    "\n",
    "test_f1 = f1_score(data.y[test_mask].cpu(), pred.cpu(), average=\"binary\")\n",
    "test_precision = precision_score(data.y[test_mask].cpu(), pred.cpu(), average=\"binary\")\n",
    "test_recall = recall_score(data.y[test_mask].cpu(), pred.cpu(), average=\"binary\")\n",
    "\n",
    "print(f\"Test F1: {test_f1:.3f}, Precision: {test_precision:.3f}, Recall: {test_recall:.3f}\")\n"
   ],
   "id": "3d034fa4ef153589",
   "outputs": [
    {
     "name": "stdout",
     "output_type": "stream",
     "text": [
      "Test F1: 0.906, Precision: 0.996, Recall: 0.831\n"
     ]
    }
   ],
   "execution_count": 148
  },
  {
   "metadata": {
    "ExecuteTime": {
     "end_time": "2025-07-30T00:44:27.314220Z",
     "start_time": "2025-07-30T00:44:23.231417Z"
    }
   },
   "cell_type": "code",
   "source": [
    "probs = torch.softmax(out, dim=1)[:, 1]\n",
    "gene_scores = [\n",
    "    (gene_name, probs[idx].item())\n",
    "    for gene_name, idx in node_id.items()\n",
    "    if data.y[idx] != -1\n",
    "]\n",
    "top_genes = sorted(gene_scores, key=lambda x: x[1], reverse=True)[:20]\n",
    "print(top_genes)\n"
   ],
   "id": "996c1edae18f6949",
   "outputs": [
    {
     "name": "stdout",
     "output_type": "stream",
     "text": [
      "[('KLC2', 1.0), ('BRMS1', 1.0), ('SPTBN1', 1.0), ('HAUS6', 1.0), ('RAD50', 1.0), ('IGHV3-33', 1.0), ('RPL13A', 1.0), ('RMI2', 1.0), ('AHCTF1', 1.0), ('CCNK', 1.0), ('DUSP16', 1.0), ('AR', 1.0), ('LAT2', 1.0), ('RANGAP1', 1.0), ('SPTB', 1.0), ('FGD1', 1.0), ('SPTBN2', 1.0), ('IRAK2', 1.0), ('UBE2I', 1.0), ('BRCC3', 1.0)]\n"
     ]
    }
   ],
   "execution_count": 149
  },
  {
   "metadata": {},
   "cell_type": "code",
   "outputs": [],
   "execution_count": null,
   "source": "",
   "id": "d068d6f504ee151e"
  },
  {
   "metadata": {},
   "cell_type": "code",
   "outputs": [],
   "source": "",
   "id": "b0b87e25426d794c",
   "execution_count": null
  }
 ],
 "metadata": {
  "kernelspec": {
   "display_name": "Python 3",
   "language": "python",
   "name": "python3"
  },
  "language_info": {
   "codemirror_mode": {
    "name": "ipython",
    "version": 2
   },
   "file_extension": ".py",
   "mimetype": "text/x-python",
   "name": "python",
   "nbconvert_exporter": "python",
   "pygments_lexer": "ipython2",
   "version": "2.7.6"
  }
 },
 "nbformat": 4,
 "nbformat_minor": 5
}
